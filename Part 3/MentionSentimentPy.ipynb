{
 "cells": [
  {
   "cell_type": "code",
   "execution_count": null,
   "metadata": {},
   "outputs": [],
   "source": [
    "# Dependencies and Setup\n",
    "import matplotlib.pyplot as plt\n",
    "import pandas as pd\n",
    "import numpy as np\n",
    "import requests\n",
    "from statistics import mean\n",
    "import time\n",
    "import tweepy\n",
    "import numpy as np\n",
    "\n",
    "# Import API key\n",
    "#import sys\n",
    "#sys.path.append('..\\..\\..\\config_files')\n",
    "\n",
    "from config import (consumer_key,\n",
    "                    consumer_secret,\n",
    "                    access_token,\n",
    "                    access_token_secret)\n",
    "\n",
    "#Import Sentiment Analyzer\n",
    "from vaderSentiment.vaderSentiment import SentimentIntensityAnalyzer\n",
    "analyzer = SentimentIntensityAnalyzer()"
   ]
  },
  {
   "cell_type": "code",
   "execution_count": null,
   "metadata": {},
   "outputs": [],
   "source": [
    "#Twitter authorization\n",
    "auth = tweepy.OAuthHandler(consumer_key, consumer_secret)\n",
    "auth.set_access_token(access_token, access_token_secret)\n",
    "api = tweepy.API(auth, parser=tweepy.parsers.JSONParser())\n",
    "\n",
    "#Get last id analyzed in mentions\n",
    "last_tweet_id = api.user_timeline()[0]['id']\n",
    "\n",
    "#list of accounts already analyzed\n",
    "accounts_analyzed = []"
   ]
  },
  {
   "cell_type": "code",
   "execution_count": null,
   "metadata": {},
   "outputs": [],
   "source": [
    "#returns all mentions not already seen\n",
    "def get_mentions(latest):\n",
    "    ment = api.mentions_timeline(since_id=latest)\n",
    "    l = []\n",
    "    for m in ment:\n",
    "        l.append(m)\n",
    "    return(l)"
   ]
  },
  {
   "cell_type": "code",
   "execution_count": null,
   "metadata": {},
   "outputs": [],
   "source": [
    "#gets compound sentiments for last 500 tweets for a user\n",
    "def get_sentiments(source):\n",
    "    \n",
    "    sentiments = []\n",
    "    \n",
    "    for p in range(1, 26):\n",
    "        public_tweets = api.user_timeline(source, page=p)\n",
    "        for tweet in public_tweets:\n",
    "            sentiment_scores = analyzer.polarity_scores(tweet[\"text\"])\n",
    "            sentiments.append(sentiment_scores['compound'])\n",
    "            \n",
    "    return(sentiments)"
   ]
  },
  {
   "cell_type": "code",
   "execution_count": null,
   "metadata": {},
   "outputs": [],
   "source": [
    "#creates a plot and tweet it\n",
    "def create_plot(data, source):\n",
    "    plt.figure(figsize=(12,7))\n",
    "    plt.plot(data, marker='o', ms=5)\n",
    "    plt.title(f'Sentiment Analysis of Tweets for User @{source}')\n",
    "    plt.ylim(-1, 1)\n",
    "    plt.xlabel('Tweets Ago')\n",
    "    plt.ylabel('Tweet Polarity')\n",
    "    plt.savefig('Output.png')\n",
    "    api.update_with_media('Output.png', f'Sentiment Analysis for User @{source}')\n",
    "    plt.show()"
   ]
  },
  {
   "cell_type": "code",
   "execution_count": null,
   "metadata": {},
   "outputs": [],
   "source": [
    "#infinite loop to get all mentions, analyze them, and then plot them every 5 min\n",
    "while(True): \n",
    "    mentions = get_mentions(last_tweet_id)\n",
    "    for m in mentions:\n",
    "        m_name = m['user']['screen_name']\n",
    "        if m_name not in accounts_analyzed:\n",
    "            sentiments = get_sentiments(m_name)\n",
    "            create_plot(sentiments, m_name)\n",
    "            accounts_analyzed.append(m_name)\n",
    "    \n",
    "    if len(mentions) != 0:\n",
    "        last_tweet_id = mentions[0]['id']\n",
    "    \n",
    "    time.sleep(300)"
   ]
  }
 ],
 "metadata": {
  "anaconda-cloud": {},
  "kernel_info": {
   "name": "python3"
  },
  "kernelspec": {
   "display_name": "Python 3",
   "language": "python",
   "name": "python3"
  },
  "language_info": {
   "codemirror_mode": {
    "name": "ipython",
    "version": 3
   },
   "file_extension": ".py",
   "mimetype": "text/x-python",
   "name": "python",
   "nbconvert_exporter": "python",
   "pygments_lexer": "ipython3",
   "version": "3.7.3"
  },
  "nteract": {
   "version": "0.12.3"
  }
 },
 "nbformat": 4,
 "nbformat_minor": 2
}
